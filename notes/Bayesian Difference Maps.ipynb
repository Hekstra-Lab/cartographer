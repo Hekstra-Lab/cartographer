{
 "cells": [
  {
   "cell_type": "markdown",
   "metadata": {},
   "source": [
    "### Difference maps\n",
    "Difference maps are commonly used to assess signals in time-resolved crystallography and between isomorphous structures more broadly. \n",
    "Here we will adopt a nomenclature suggestive of TR-X. $\\mathbf{F_{GS}}$ and $\\mathbf{F_{ES}}$ will represent the complex structure factors of an idealized ground and excited state. \n",
    "Bold fond will indicate $\\mathbf{complex}$ numbers. \n",
    "The amplitude of a complex number, $|\\mathbf{Z}| = Z$.\n",
    "$F_{off}$ and $F_{on}$ are the experimentally measurable structure factor amplitudes of these two states which may be contaminated by various experimental artifacts including but not limitted to incomplete conversion. \n",
    "\n",
    "Typically, difference maps are constructed by computing map coefficients approximating the true difference structure factor, \n",
    "\\begin{align}\n",
    "\\mathbf{\\Delta F} &= \\mathbf{F_{on}} - \\mathbf{F_{off}} \\\\\n",
    "&\\approx (F_{on} - F_{off})e^{i \\phi_{off}}  \\\\\n",
    "\\end{align}\n",
    "\n",
    "The foremost task in computing a difference map is getting good estimates of \\phi_{off} by refining a crystallographic model against the ground state data from the experiment or an isomorphous reference data set. \n",
    "By contrast, estimating $F_{on}-F_{off}$ contingent upon measurements of $F_{on,off}$ and corresponding error estimates $\\sigma_{F_{on,off}}$ is usually considered wrote. \n",
    "The structure factors amplitues are typically subtracted without the inclusion of any prior information. \n",
    "However, by constructing a Bayesian integral, we can include prior information in the calculation of difference map coefficients.\n",
    "\n",
    "$$\n",
    "\\mathbb{E}[F_{on} - F_{off}] = \\int_J \\int_K (J-K) P(J,K,F_{on},F_{off})\n",
    "$$\n",
    "\n",
    "Factorizing the joint model as, $P(J,K,F_{on},F_{off}) = P(F_{on} | J) P(F_{off} | K ) P(J, K)$ allows us to incorporate any number of priors on the joint distribution of the structure factors.\n",
    "This factorization can be further simplified under the assumption of J & K's independence. \n",
    "\n",
    "\\begin{align}\n",
    "P(J,K,F_{on},F_{off}) &= P(F_{on} | J) P(F_{off} | K ) P(J, K) \\\\\n",
    "                      &= P(F_{on} | J) P(F_{off} | K ) P(J) P(K)\n",
    "\\end{align}\n",
    "This may seem a dubious factorization for the time resolved setting, but it is more useful than you might assume at first blush. \n",
    "We can use the priors on the structure factors, $P(J), P(K)$, to incoporate information about where a particular pair of reflections sits in the global probability space across reflections. \n",
    "This can have the beneficial effect of surpressing outliers which often dominate the signal in time-resolved difference maps. \n",
    "The way to go about this follows naturally from the method first introduced by French & Wilson (1978). \n",
    "With their procedure in mind, it seems quite natural to apply Wilson's priors in this setting. \n",
    "\n",
    "$$\n",
    "P(F) = \\begin{cases}\n",
    "    \\sqrt{\\frac{2}{\\pi \\Sigma\\epsilon}}\\exp\\left(-\\frac{F^2}{2\\Sigma\\epsilon}\\right) & Centric \\\\\n",
    "    \\frac{2F}{\\Sigma\\epsilon}\\exp\\left(-\\frac{F^2}{\\Sigma\\epsilon}\\right) & Acentric \\\\\n",
    "\\end{cases}\n",
    "$$\n",
    "\n",
    "Where $\\epsilon$ is the structure factor multiplicity which is a property of the spacegroup and reflection. $\\Sigma$ is the mean intensity of reflections at the resolution of the structure factor in question, $F$. \n",
    "\n",
    "### Estimating the 2nd moment of $\\Delta F$\n",
    "Noting the defintion of variance,\n",
    "$$\n",
    "Var[X] = \\mathbb{E}[X^2] - \\mathbb{E}[X]^2,\n",
    "$$\n",
    "and the fact that we can already compute $\\mathbb{E}[F_{on} - F_{off}]$, in order to compute the variance of $\\Delta F$, we need only compute \n",
    "\n",
    "$$\n",
    "\\mathbb{E}[(F_{on} - F_{off})^2] = \\int_J \\int_K (J-K)^2 P(J,K,F_{on},F_{off}).\n",
    "$$\n",
    "The quadrature routine evolved in the previous section can be used to compute this quanity.\n",
    "\n",
    "### Random diffuse model\n",
    "Adopting a two-state formalism, the excited state fraction converted during the experiment will be $p$. \n",
    "Under the random diffuse model the observed on structure factors are a convex combination of the off amplitudes and the true excited state\n",
    "$$F_{on} = (1 - p)F_{off} + pF_{ES}$$\n",
    "\n"
   ]
  },
  {
   "cell_type": "code",
   "execution_count": null,
   "metadata": {},
   "outputs": [],
   "source": []
  }
 ],
 "metadata": {
  "kernelspec": {
   "display_name": "Python 3",
   "language": "python",
   "name": "python3"
  },
  "language_info": {
   "codemirror_mode": {
    "name": "ipython",
    "version": 3
   },
   "file_extension": ".py",
   "mimetype": "text/x-python",
   "name": "python",
   "nbconvert_exporter": "python",
   "pygments_lexer": "ipython3",
   "version": "3.8.5"
  }
 },
 "nbformat": 4,
 "nbformat_minor": 4
}
