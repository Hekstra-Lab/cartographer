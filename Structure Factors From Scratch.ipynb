{
 "cells": [
  {
   "cell_type": "markdown",
   "metadata": {},
   "source": [
    "### Structure Factor Calculation from Scratch\n",
    "\n",
    "The purpose of this notebook is to evolve a very simple random atom model for plausible difference map coefficients. "
   ]
  },
  {
   "cell_type": "markdown",
   "metadata": {},
   "source": [
    "Let's implement structure factor calculations for P1 lattices with a single atom type from scratch. \n",
    "\n",
    "\n",
    "The starting point is a crystal with cell constants $A, B, C, \\alpha, \\beta, \\gamma$. The orthogonalization matrix,\n",
    "$$\n",
    "O = \\begin{bmatrix}a & b\\cos\\gamma & c \\cos\\beta\\\\\n",
    "0 & b\\sin\\gamma & \\frac {c(\\cos\\alpha - \\cos\\beta\\cos\\gamma} {\\sin\\gamma} \\\\\n",
    "0 & 0 & \\frac {V} {ab\\sin\\gamma}\n",
    "\\end{bmatrix} \\\\\n",
    "V = abc\\sqrt{1 - \\cos^2\\alpha - \\cos^2\\beta -\\cos^2\\gamma + 2\\cos\\alpha\\cos\\beta\\cos\\gamma},\n",
    "$$\n",
    "can be used to convert from fractional to cartesian coordinates. The inverse of this matrix converts from cartesian, x,y,z, coordinates to fractional coordinates in the unit cell basis. \n",
    "\n",
    "The resolution of a reflection is\n",
    "$$\n",
    "d*_h = \\frac {1}{d_h} = |(O^{-1})^Th|\n",
    "$$\n",
    "\n",
    "$$\n",
    "F = \\sum_j f_j e^{-2\\pi i H\\cdot x_j}\n",
    "$$"
   ]
  },
  {
   "cell_type": "code",
   "execution_count": 13,
   "metadata": {},
   "outputs": [
    {
     "name": "stdout",
     "output_type": "stream",
     "text": [
      "Populating the interactive namespace from numpy and matplotlib\n"
     ]
    },
    {
     "name": "stderr",
     "output_type": "stream",
     "text": [
      "/home/kmdalton/opt/anaconda/envs/rs/lib/python3.7/site-packages/IPython/core/magics/pylab.py:160: UserWarning: pylab import has clobbered these variables: ['beta', 'gamma', 'f', 'std']\n",
      "`%matplotlib` prevents importing * from pylab and numpy\n",
      "  \"\\n`%matplotlib` prevents importing * from pylab and numpy\"\n"
     ]
    }
   ],
   "source": [
    "%pylab inline"
   ]
  },
  {
   "cell_type": "code",
   "execution_count": 14,
   "metadata": {},
   "outputs": [],
   "source": [
    "a,b,c = 30, 40, 90\n",
    "alpha,beta,gamma = 90, 90, 90\n",
    "\n",
    "alpha,beta,gamma = np.deg2rad(alpha),np.deg2rad(beta),np.deg2rad(gamma)\n",
    "V = a*b*c*np.sqrt(1 - np.cos(alpha)**2-np.cos(beta)**2 - np.cos(gamma)**2 + \n",
    "                  2*np.cos(alpha)*np.cos(beta)*np.cos(gamma))\n",
    "O = [\n",
    "    [a, b*np.cos(gamma), c*np.cos(beta)],\n",
    "    [0, b*np.sin(gamma), c*(np.cos(alpha) - np.cos(beta)*np.cos(gamma))/np.sin(gamma)],\n",
    "    [0, 0, V / (a*b*np.sin(gamma))],\n",
    "]\n",
    "Oinv = np.linalg.inv(O)\n",
    "    \n",
    "alpha,beta,gamma = np.rad2deg(alpha),np.rad2deg(beta),np.rad2deg(gamma)"
   ]
  },
  {
   "cell_type": "markdown",
   "metadata": {},
   "source": [
    "# Cromer-Mann coefficients for Carbon:\n",
    "\n",
    "|i | 1 | 2 | 3 | 4 |\n",
    "|--|---|---|---|---|\n",
    "|a_i (e-) | 2.310 | 1.020 | 1.589 | 0.865 |\n",
    "|b_i (A^2)| 20.844 | 10.208 | 0.569 | 51.651 |\n",
    "|c   (e-)| 0.216 | ----- | ----- | ----- |\n",
    "\n",
    "\n",
    "$f_j = \\sum_{j=1}^4 a_j \\cdot e^{-b_i(sin\\theta / \\lambda)^2+c}$\n",
    "\n",
    "$\\sin \\theta/\\lambda = \\frac {1} {2 d_h}$\n",
    "\n",
    "# Debye Waller Temperature Factors\n",
    "\n",
    "$$\n",
    "f_j^B = f_j \\cdot T_j \\\\\n",
    "T_j = e^{-B_j(\\sin\\theta/\\lambda)^2}\n",
    "$$"
   ]
  },
  {
   "cell_type": "code",
   "execution_count": 15,
   "metadata": {},
   "outputs": [
    {
     "data": {
      "text/plain": [
       "<matplotlib.legend.Legend at 0x7f0f11c7a650>"
      ]
     },
     "execution_count": 15,
     "metadata": {},
     "output_type": "execute_result"
    },
    {
     "data": {
      "image/png": "[encoded data removed]",
      "text/plain": [
       "<Figure size 432x288 with 1 Axes>"
      ]
     },
     "metadata": {
      "needs_background": "light"
     },
     "output_type": "display_data"
    }
   ],
   "source": [
    "a_cm = np.array([2.310, 1.020, 1.589, 0.865])\n",
    "b_cm = np.array([20.844, 10.208, 0.569, 51.651])\n",
    "c_cm = 0.216\n",
    "\n",
    "d = np.linspace(100, 1., 1000)\n",
    "\n",
    "f = (a_cm[:,None]*np.exp(-b_cm[:,None]/(4*d*d)) + c_cm).sum(0)\n",
    "B = np.array([0, 5, 25, 100])\n",
    "T = np.exp(-B[:,None]/(4*d*d))\n",
    "\n",
    "f.shape\n",
    "plt.plot(1./d, (T*f).T)\n",
    "plt.xlabel(r\"$\\sin \\theta /\\lambda (\\AA^{-1})$\")\n",
    "plt.ylabel(r\"Atomic scattering factor ($e^-$)\")\n",
    "plt.legend(B, title=r'$B\\ (\\AA^2)$')"
   ]
  },
  {
   "cell_type": "markdown",
   "metadata": {},
   "source": [
    "# Simulated Time Resolved Crystallography Experiments\n",
    "\n",
    "The following cell contains code to simulate a very simple time resolved crystallography experiment. This sort of simplistic code has some limitations, but may be useful for reasoning about priors in reciprocal space. \n",
    "\n",
    "The way the simulation is set up is that 100 carbon atoms are placed in a P1 unit cell. \n",
    "The coordinates are then jittered to simulate an \"excited state\" structure which is very similar to the ground state aside from small differences in atomic coordinates.\n",
    "$$\n",
    "X = X_0 + \\Delta X \\\\\n",
    "\\Delta X \\sim Laplacian(0, 0.1)\n",
    "$$\n",
    "The structure factor amplitudes for a random subset of reflections are calculated before and after perturbing the coordinates. The particular expression for the structure factor amplitudes,\n",
    "$$\n",
    "F_h = f_j(d_h) T_j e^{-2\\pi i H\\cdot x},\n",
    "$$\n",
    "includes isotropic temperature factors which are drawn from a normal distribution. \n",
    "$$\n",
    "T_j = e^{-B_j / (2d)^2} \\\\\n",
    "B_j \\sim \\max (0, \\mathcal{N} (20, 10))\n",
    "$$\n",
    "\n",
    "\n",
    "From these equations, the complex $F_{on}$ and $F_{off}$ are computed. \n",
    "The complex Fourier difference $\\Delta F = F_{on} - F_{off}$."
   ]
  },
  {
   "cell_type": "code",
   "execution_count": 16,
   "metadata": {},
   "outputs": [],
   "source": [
    "num_particles = 10000\n",
    "\n",
    "#Temperature Factors\n",
    "B = np.maximum(0, np.random.normal(20, 10, num_particles))\n",
    "\n",
    "#Std deviation of coordinate jitter\n",
    "std = 0.5#Angstroms\n",
    "\n",
    "#Number of sample reflections\n",
    "reflections=10000\n",
    "\n",
    "#Maximum h,k,l index range\n",
    "hmax = 30\n",
    "\n",
    "\n",
    "H = np.random.randint(0, hmax+1, (3, reflections))\n",
    "while H.sum(0).min() == 0:\n",
    "    H = np.random.randint(0, hmax+1, (3, reflections))\n",
    "D = 1./np.linalg.norm(Oinv.T.dot(H), 2, 0)\n",
    "\n",
    "#Random locations in fractional coordinates\n",
    "Xoff = np.random.random((num_particles, 3))\n",
    "#Convert to cartesian\n",
    "Xoff = np.matmul(Xoff, O)\n",
    "#Random jitter in cartesian space\n",
    "DeltaX = np.random.laplace(0., std, (num_particles, 3)) \n",
    "Xon = Xoff[:,:] + DeltaX\n"
   ]
  },
  {
   "cell_type": "code",
   "execution_count": 17,
   "metadata": {},
   "outputs": [],
   "source": [
    "\n",
    "#Convert back to fractional coordinates\n",
    "Xon = np.matmul(Xon, Oinv)\n",
    "Xon = np.mod(Xon, 1.)\n",
    "Xoff = np.matmul(Xoff, Oinv)\n",
    "\n",
    "#Fourier transform\n",
    "f = (a_cm[:,None]*np.exp(-b_cm[:,None]/(4*D*D)) + c_cm).sum(0)\n",
    "T = np.exp(-B[:,None]/(4*D*D))\n",
    "Foff = (T*f*np.exp(-1j*2*np.pi*Xoff.dot(H))).sum(-2)\n",
    "Fon = (T*f*np.exp(-1j*2*np.pi*Xon.dot(H))).sum(-2)\n"
   ]
  },
  {
   "cell_type": "code",
   "execution_count": 18,
   "metadata": {},
   "outputs": [],
   "source": [
    "np.save('data/Foff.npy', Foff)\n",
    "np.save('data/Fon.npy', Fon)\n",
    "np.save('data/dHKL.npy', D)"
   ]
  },
  {
   "cell_type": "code",
   "execution_count": null,
   "metadata": {},
   "outputs": [],
   "source": []
  }
 ],
 "metadata": {
  "kernelspec": {
   "display_name": "Python 3",
   "language": "python",
   "name": "python3"
  },
  "language_info": {
   "codemirror_mode": {
    "name": "ipython",
    "version": 3
   },
   "file_extension": ".py",
   "mimetype": "text/x-python",
   "name": "python",
   "nbconvert_exporter": "python",
   "pygments_lexer": "ipython3",
   "version": "3.7.7"
  }
 },
 "nbformat": 4,
 "nbformat_minor": 4
}
